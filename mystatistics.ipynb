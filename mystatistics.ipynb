{
 "cells": [
  {
   "cell_type": "markdown",
   "metadata": {},
   "source": [
    "# 创建数组、矩阵"
   ]
  },
  {
   "cell_type": "code",
   "execution_count": 8,
   "metadata": {},
   "outputs": [
    {
     "name": "stdout",
     "output_type": "stream",
     "text": [
      "(3,)\n",
      "(3, 3)\n",
      "int32\n",
      "[[ 1  2  3]\n",
      " [ 4 10  6]\n",
      " [ 7  8  9]]\n"
     ]
    }
   ],
   "source": [
    "import numpy as np\n",
    "a=np.array([1,2,3])\n",
    "b=np.array([[1,2,3],[4,5,6],[7,8,9]])\n",
    "b[1,1]=10\n",
    "print (a.shape) #数组大小\n",
    "print (b.shape)\n",
    "print (a.dtype)#数组类型\n",
    "print (b)#输出数组\n"
   ]
  },
  {
   "cell_type": "markdown",
   "metadata": {},
   "source": [
    "## 创建结构数组"
   ]
  },
  {
   "cell_type": "code",
   "execution_count": 11,
   "metadata": {},
   "outputs": [
    {
     "name": "stdout",
     "output_type": "stream",
     "text": [
      "28.25\n",
      "77.5\n",
      "93.25\n",
      "93.75\n"
     ]
    }
   ],
   "source": [
    "# encoding:utf-8\n",
    "import numpy as np\n",
    "\n",
    "persontype = np.dtype({\n",
    "  'names': ['name', 'age', 'chinese', 'math', 'english'],\n",
    "  'formats': ['S32', 'i', 'i', 'i', 'f']\n",
    "})\n",
    "\n",
    "peoples = np.array(\n",
    "  [\n",
    "    ('zhangfei', 32, 75, 100, 90),\n",
    "    ('guanyu', 24, 85, 96, 88.5),\n",
    "    ('zhaoyun', 28, 85, 92, 96.5),\n",
    "    ('huangzhong', 29, 65, 85, 100)\n",
    "  ],\n",
    "  dtype=persontype\n",
    ")\n",
    "\n",
    "ages = peoples[:]['age']\n",
    "chineses = peoples[:]['chinese']\n",
    "math = peoples[:]['math']\n",
    "english = peoples[:]['english']\n",
    "\n",
    "print (np.mean(ages))\n",
    "print (np.mean(chineses))\n",
    "print (np.mean(math))\n",
    "print (np.mean(english))"
   ]
  },
  {
   "cell_type": "markdown",
   "metadata": {},
   "source": [
    "# 连续数组创建"
   ]
  },
  {
   "cell_type": "code",
   "execution_count": 21,
   "metadata": {},
   "outputs": [
    {
     "name": "stdout",
     "output_type": "stream",
     "text": [
      "[1 3 5 7 9]\n",
      "[1. 3. 5. 7. 9.]\n",
      "(5,)\n",
      "(5,)\n",
      "int32\n",
      "float64\n"
     ]
    }
   ],
   "source": [
    "x1=np.arange(1,10,2)#分别对应初始值、终值、步长\n",
    "x2=np.linspace(1,9,5)#分别对应初始值、终值、元素个数\n",
    "print (x1)\n",
    "print (x2)\n",
    "print (x1.shape)\n",
    "print (x2.shape)\n",
    "print (x1.dtype)#数组类型\n",
    "print (x2.dtype)#数组类型"
   ]
  },
  {
   "cell_type": "markdown",
   "metadata": {},
   "source": [
    "# 算数运算（加减乘除n次方取余）"
   ]
  },
  {
   "cell_type": "code",
   "execution_count": 12,
   "metadata": {},
   "outputs": [
    {
     "name": "stdout",
     "output_type": "stream",
     "text": [
      "[ 2.  6. 10. 14. 18.]\n",
      "[0. 0. 0. 0. 0.]\n",
      "[ 1.  9. 25. 49. 81.]\n",
      "[1. 1. 1. 1. 1.]\n",
      "[1.00000000e+00 2.70000000e+01 3.12500000e+03 8.23543000e+05\n",
      " 3.87420489e+08]\n",
      "[0. 0. 0. 0. 0.]\n"
     ]
    }
   ],
   "source": [
    "# encoding:utf-8\n",
    "\n",
    "import numpy as np\n",
    "\n",
    "x1 = np.arange(1, 11, 2)  # 默认不包含最终值\n",
    "x2 = np.linspace(1, 9, 5)  # 默认包含最终值\n",
    "\n",
    "print (np.add(x1, x2))  # 加法\n",
    "print (np.subtract(x1, x2))  # 减法\n",
    "print (np.multiply(x1, x2))  # 乘法\n",
    "print (np.divide(x1, x2))  # 除法\n",
    "print (np.power(x1, x2))  # 求N次方x1对应处的x2次方\n",
    "print (np.remainder(x1, x2))  # 取余"
   ]
  },
  {
   "cell_type": "markdown",
   "metadata": {},
   "source": [
    "# 统计函数"
   ]
  },
  {
   "cell_type": "markdown",
   "metadata": {},
   "source": [
    "## 计算数组和矩阵的最大值最小值"
   ]
  },
  {
   "cell_type": "code",
   "execution_count": 22,
   "metadata": {},
   "outputs": [
    {
     "name": "stdout",
     "output_type": "stream",
     "text": [
      "1\n",
      "[1 2 3]\n",
      "[1 4 7]\n",
      "9\n",
      "[7 8 9]\n",
      "[3 6 9]\n"
     ]
    }
   ],
   "source": [
    "# encoding:utf-8\n",
    "\n",
    "import numpy as np\n",
    "\n",
    "a = np.array([[1, 2, 3],[4, 5, 6],[7, 8, 9]])\n",
    "\n",
    "print (np.amin(a))\n",
    "print (np.amin(a, 0))\n",
    "print (np.amin(a, 1))\n",
    "\n",
    "print (np.amax(a))\n",
    "print (np.amax(a, 0))\n",
    "print (np.amax(a, 1))"
   ]
  },
  {
   "cell_type": "code",
   "execution_count": null,
   "metadata": {},
   "outputs": [],
   "source": []
  }
 ],
 "metadata": {
  "kernelspec": {
   "display_name": "Python 3",
   "language": "python",
   "name": "python3"
  },
  "language_info": {
   "codemirror_mode": {
    "name": "ipython",
    "version": 3
   },
   "file_extension": ".py",
   "mimetype": "text/x-python",
   "name": "python",
   "nbconvert_exporter": "python",
   "pygments_lexer": "ipython3",
   "version": "3.7.6"
  }
 },
 "nbformat": 4,
 "nbformat_minor": 4
}
